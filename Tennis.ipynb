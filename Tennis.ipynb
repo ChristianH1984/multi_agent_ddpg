{
 "cells": [
  {
   "cell_type": "markdown",
   "metadata": {},
   "source": [
    "# Collaboration and Competition"
   ]
  },
  {
   "cell_type": "code",
   "execution_count": 1,
   "metadata": {},
   "outputs": [],
   "source": [
    "from unityagents import UnityEnvironment\n",
    "import numpy as np"
   ]
  },
  {
   "cell_type": "code",
   "execution_count": 2,
   "metadata": {},
   "outputs": [
    {
     "name": "stderr",
     "output_type": "stream",
     "text": [
      "INFO:unityagents:\n",
      "'Academy' started successfully!\n",
      "Unity Academy name: Academy\n",
      "        Number of Brains: 1\n",
      "        Number of External Brains : 1\n",
      "        Lesson number : 0\n",
      "        Reset Parameters :\n",
      "\t\t\n",
      "Unity brain name: TennisBrain\n",
      "        Number of Visual Observations (per agent): 0\n",
      "        Vector Observation space type: continuous\n",
      "        Vector Observation space size (per agent): 8\n",
      "        Number of stacked Vector Observation: 3\n",
      "        Vector Action space type: continuous\n",
      "        Vector Action space size (per agent): 2\n",
      "        Vector Action descriptions: , \n"
     ]
    }
   ],
   "source": [
    "env = UnityEnvironment(file_name=\"./Tennis_Windows_x86_64/Tennis.exe\")"
   ]
  },
  {
   "cell_type": "code",
   "execution_count": 3,
   "metadata": {},
   "outputs": [],
   "source": [
    "# get the default brain\n",
    "brain_name = env.brain_names[0]\n",
    "brain = env.brains[brain_name]"
   ]
  },
  {
   "cell_type": "code",
   "execution_count": 4,
   "metadata": {},
   "outputs": [
    {
     "name": "stdout",
     "output_type": "stream",
     "text": [
      "Number of agents: 2\n",
      "Size of each action: 2\n",
      "There are 2 agents. Each observes a state with length: 24\n",
      "The state for the first agent looks like: [ 0.          0.          0.          0.          0.          0.\n",
      "  0.          0.          0.          0.          0.          0.\n",
      "  0.          0.          0.          0.         -6.65278625 -1.5\n",
      " -0.          0.          6.83172083  6.         -0.          0.        ]\n",
      "The state for the second agent looks like: [ 0.          0.          0.          0.          0.          0.\n",
      "  0.          0.          0.          0.          0.          0.\n",
      "  0.          0.          0.          0.         -6.4669857  -1.5\n",
      "  0.          0.         -6.83172083  6.          0.          0.        ]\n"
     ]
    }
   ],
   "source": [
    "# reset the environment\n",
    "env_info = env.reset(train_mode=True)[brain_name]\n",
    "\n",
    "# number of agents \n",
    "num_agents = len(env_info.agents)\n",
    "print('Number of agents:', num_agents)\n",
    "\n",
    "# size of each action\n",
    "action_size = brain.vector_action_space_size\n",
    "print('Size of each action:', action_size)\n",
    "\n",
    "# examine the state space \n",
    "states = env_info.vector_observations\n",
    "state_size = states.shape[1]\n",
    "print('There are {} agents. Each observes a state with length: {}'.format(states.shape[0], state_size))\n",
    "print('The state for the first agent looks like:', states[0])\n",
    "print('The state for the second agent looks like:', states[1])"
   ]
  },
  {
   "cell_type": "markdown",
   "metadata": {},
   "source": [
    "### Benchmark model\n",
    "\n",
    "First a benchmark model is implemented. Therefore the multi agent problem is reformulated into a single DDPG problem. There is only one policy which receives both state vectors and outputs the actions of both agents. Also the critic receives both states and the actions of both actors."
   ]
  },
  {
   "cell_type": "code",
   "execution_count": 5,
   "metadata": {},
   "outputs": [],
   "source": [
    "class environment_single_wrapper():\n",
    "    def __init__(self, env):\n",
    "        self.env = env\n",
    "        self.vector_observations = self.env\n",
    "        self.brain_names = self.env.brain_names\n",
    "        \n",
    "    def reset(self, train_mode):\n",
    "        self.env_info = self.env.reset(train_mode)\n",
    "        return self\n",
    "    \n",
    "    def __getitem__(self, brain_name):\n",
    "        self.env_info = self.env_info[brain_name]\n",
    "        self.vector_observations = self.env_info.vector_observations.reshape(1,-1)\n",
    "        self.rewards = np.array([sum(self.env_info.rewards)])\n",
    "        self.local_done = np.array([max(self.env_info.local_done)])\n",
    "        return self\n",
    "    \n",
    "    def step(self, action):\n",
    "        self.env_info = self.env.step(action)\n",
    "        return self"
   ]
  },
  {
   "cell_type": "code",
   "execution_count": 6,
   "metadata": {},
   "outputs": [],
   "source": [
    "BUFFER_SIZE = 10000  # replay buffer size\n",
    "BATCH_SIZE = 16        # minibatch size\n",
    "GAMMA = 0.98            # discount factor\n",
    "TAU = 5e-4              # for soft update of target parameters\n",
    "LR_ACTOR = 1e-4       # learning rate of the actor \n",
    "LR_CRITIC = 1e-4       # learning rate of the critic"
   ]
  },
  {
   "cell_type": "code",
   "execution_count": 7,
   "metadata": {},
   "outputs": [
    {
     "name": "stdout",
     "output_type": "stream",
     "text": [
      "\r",
      "Episode 0\tAverage Score: -0.01,   -0.01\r",
      "Episode 0\tAverage Score: -0.01\n",
      "\r",
      "Episode 1\tAverage Score: 0.04,   0.09"
     ]
    },
    {
     "name": "stderr",
     "output_type": "stream",
     "text": [
      "E:\\github\\maddpg\\agent.py:117: UserWarning: torch.nn.utils.clip_grad_norm is now deprecated in favor of torch.nn.utils.clip_grad_norm_.\n",
      "  torch.nn.utils.clip_grad_norm(self.critic_local.parameters(), 1)\n"
     ]
    },
    {
     "name": "stdout",
     "output_type": "stream",
     "text": [
      "Episode 100\tAverage Score: -0.01,   -0.01\n",
      "Episode 200\tAverage Score: -0.01,   -0.01\n",
      "Episode 300\tAverage Score: -0.01,   -0.01\n",
      "Episode 400\tAverage Score: -0.00,   -0.01\n",
      "Episode 500\tAverage Score: 0.01,   -0.011\n",
      "Episode 600\tAverage Score: -0.01,   -0.01\n",
      "Episode 700\tAverage Score: 0.01,   -0.011\n",
      "Episode 800\tAverage Score: -0.01,   -0.01\n",
      "Episode 900\tAverage Score: -0.00,   -0.01\n",
      "Episode 1000\tAverage Score: 0.00,   -0.01\n",
      "Episode 1100\tAverage Score: 0.00,   -0.011\n",
      "Episode 1200\tAverage Score: 0.03,   0.0911\n",
      "Episode 1300\tAverage Score: 0.01,   -0.011\n",
      "Episode 1400\tAverage Score: -0.01,   -0.01\n",
      "Episode 1500\tAverage Score: -0.01,   -0.01\n",
      "Episode 1600\tAverage Score: -0.01,   -0.01\n",
      "Episode 1700\tAverage Score: -0.01,   -0.01\n",
      "Episode 1800\tAverage Score: 0.02,   0.0911\n",
      "Episode 1900\tAverage Score: -0.01,   -0.01\n",
      "Episode 2000\tAverage Score: 0.00,   -0.011\n",
      "Episode 2100\tAverage Score: 0.00,   -0.011\n",
      "Episode 2200\tAverage Score: 0.01,   -0.011\n",
      "Episode 2300\tAverage Score: 0.01,   -0.011\n",
      "Episode 2400\tAverage Score: 0.01,   0.0911\n",
      "Episode 2500\tAverage Score: 0.01,   -0.01\n",
      "Episode 2600\tAverage Score: 0.03,   -0.011\n",
      "Episode 2700\tAverage Score: 0.01,   -0.01\n",
      "Episode 2800\tAverage Score: 0.03,   -0.01\n",
      "Episode 2900\tAverage Score: 0.06,   0.0911\n",
      "Episode 3000\tAverage Score: 0.08,   -0.01\n",
      "Episode 3100\tAverage Score: 0.05,   0.191\n",
      "Episode 3200\tAverage Score: 0.06,   0.091\n",
      "Episode 3300\tAverage Score: 0.09,   -0.01\n",
      "Episode 3400\tAverage Score: 0.05,   -0.01\n",
      "Episode 3500\tAverage Score: 0.02,   -0.01\n",
      "Episode 3600\tAverage Score: 0.08,   0.091\n",
      "Episode 3700\tAverage Score: 0.05,   -0.01\n",
      "Episode 3800\tAverage Score: 0.07,   -0.01\n",
      "Episode 3900\tAverage Score: 0.06,   -0.01\n",
      "Episode 4000\tAverage Score: 0.07,   0.091\n",
      "Episode 4100\tAverage Score: 0.10,   0.091\n",
      "Episode 4200\tAverage Score: 0.08,   0.091\n",
      "Episode 4300\tAverage Score: 0.12,   0.091\n",
      "Episode 4400\tAverage Score: 0.11,   -0.01\n",
      "Episode 4500\tAverage Score: 0.11,   0.091\n",
      "Episode 4600\tAverage Score: 0.12,   -0.01\n",
      "Episode 4700\tAverage Score: 0.06,   0.091\n",
      "Episode 4800\tAverage Score: 0.14,   0.091\n",
      "Episode 4900\tAverage Score: 0.08,   -0.01\n",
      "Episode 5000\tAverage Score: 0.11,   -0.01\n",
      "Episode 5100\tAverage Score: 0.10,   0.491\n",
      "Episode 5200\tAverage Score: 0.12,   0.091\n",
      "Episode 5300\tAverage Score: 0.09,   0.191\n",
      "Episode 5400\tAverage Score: 0.14,   0.091\n",
      "Episode 5500\tAverage Score: 0.12,   0.191\n",
      "Episode 5600\tAverage Score: 0.15,   0.081\n",
      "Episode 5700\tAverage Score: 0.16,   0.091\n",
      "Episode 5800\tAverage Score: 0.18,   0.091\n",
      "Episode 5900\tAverage Score: 0.19,   0.091\n",
      "Episode 6000\tAverage Score: 0.22,   0.391\n",
      "Episode 6100\tAverage Score: 0.22,   0.591\n",
      "Episode 6200\tAverage Score: 0.26,   0.291\n",
      "Episode 6300\tAverage Score: 0.27,   0.091\n",
      "Episode 6400\tAverage Score: 0.26,   0.191\n",
      "Episode 6500\tAverage Score: 0.23,   0.191\n",
      "Episode 6600\tAverage Score: 0.23,   0.191\n",
      "Episode 6700\tAverage Score: 0.22,   0.091\n",
      "Episode 6800\tAverage Score: 0.21,   0.391\n",
      "Episode 6900\tAverage Score: 0.36,   0.091\n",
      "Episode 7000\tAverage Score: 0.21,   0.191\n",
      "Episode 7100\tAverage Score: 0.29,   0.291\n",
      "Episode 7200\tAverage Score: 0.27,   0.291\n",
      "Episode 7300\tAverage Score: 0.23,   0.291\n",
      "Episode 7400\tAverage Score: 0.12,   -0.01\n",
      "Episode 7500\tAverage Score: 0.17,   -0.01\n",
      "Episode 7600\tAverage Score: 0.26,   0.191\n",
      "Episode 7700\tAverage Score: 0.26,   0.091\n",
      "Episode 7800\tAverage Score: 0.16,   -0.01\n",
      "Episode 7900\tAverage Score: 0.29,   0.891\n",
      "Episode 8000\tAverage Score: 0.28,   -0.01\n",
      "Episode 8100\tAverage Score: 0.26,   0.291\n",
      "Episode 8200\tAverage Score: 0.21,   -0.01\n",
      "Episode 8300\tAverage Score: 0.17,   -0.01\n",
      "Episode 8400\tAverage Score: 0.16,   0.191\n",
      "Episode 8500\tAverage Score: 0.22,   0.091\n",
      "Episode 8600\tAverage Score: 0.36,   0.191\n",
      "Episode 8700\tAverage Score: 0.29,   0.291\n",
      "Episode 8800\tAverage Score: 0.24,   0.091\n",
      "Episode 8900\tAverage Score: 0.29,   0.091\n",
      "Episode 9000\tAverage Score: 0.31,   0.291\n",
      "Episode 9100\tAverage Score: 0.21,   0.291\n",
      "Episode 9200\tAverage Score: 0.36,   0.091\n",
      "Episode 9300\tAverage Score: 0.11,   0.091\n",
      "Episode 9400\tAverage Score: 0.19,   0.291\n",
      "Episode 9500\tAverage Score: 0.25,   0.391\n",
      "Episode 9600\tAverage Score: 0.19,   -0.01\n",
      "Episode 9700\tAverage Score: 0.24,   -0.01\n",
      "Episode 9800\tAverage Score: 0.26,   0.191\n",
      "Episode 9900\tAverage Score: 0.22,   0.091\n",
      "Episode 9999\tAverage Score: 0.35,   0.591"
     ]
    }
   ],
   "source": [
    "from pi_network import PiNetwork\n",
    "from q_network import QNetwork\n",
    "\n",
    "actor = PiNetwork(input_size=state_size*2, output_size=action_size*2, layer_size1=128, layer_size2=64, lr=LR_ACTOR)\n",
    "critic = QNetwork(input_size=state_size*2+action_size*2, layer_size1=128, layer_size2=128, lr=LR_CRITIC)\n",
    "\n",
    "from agent import  DeterministicActorCriticAgent\n",
    "from noise import OUNoise, GaussianNoise\n",
    "from replay_buffer import ReplayBuffer\n",
    "from trainer import Trainer\n",
    "\n",
    "\n",
    "memory = ReplayBuffer(state_size, BUFFER_SIZE , BATCH_SIZE, 1337)\n",
    "#noise = OUNoise(action_size*2, 1, 1337, sigma_decay=0.999, sigma=0.5, sigma_min=0.025)\n",
    "noise = GaussianNoise(action_size*2, 1, 1337, sigma=1.0, sigma_decay=0.999, sigma_min=0.05)\n",
    "ac =  DeterministicActorCriticAgent(gamma=GAMMA, tau=TAU, batch_size=BATCH_SIZE, update_every=1,\n",
    "                                   actor=actor, critic=critic, memory=memory, noise=noise)\n",
    "\n",
    "trainer = Trainer(environment_single_wrapper(env), ac)\n",
    "\n",
    "scores = trainer.train(10000)"
   ]
  },
  {
   "cell_type": "code",
   "execution_count": 8,
   "metadata": {},
   "outputs": [
    {
     "data": {
      "text/plain": [
       "<matplotlib.legend.Legend at 0x23c227f2978>"
      ]
     },
     "execution_count": 8,
     "metadata": {},
     "output_type": "execute_result"
    },
    {
     "data": {
      "image/png": "[encoded data removed]",
      "text/plain": [
       "<Figure size 1080x576 with 1 Axes>"
      ]
     },
     "metadata": {
      "needs_background": "light"
     },
     "output_type": "display_data"
    }
   ],
   "source": [
    "import matplotlib.pyplot as plt\n",
    "%matplotlib inline\n",
    "import pandas as pd\n",
    "\n",
    "\n",
    "plt.figure(figsize=(15,8))\n",
    "pd.Series(scores, name='DDPG').plot()\n",
    "pd.Series(scores, name='Rolling mean DDPG (length: 100)').rolling(100).mean().plot()\n",
    "plt.title('Score: Reacher environment')\n",
    "plt.legend()"
   ]
  },
  {
   "cell_type": "code",
   "execution_count": 14,
   "metadata": {},
   "outputs": [
    {
     "data": {
      "text/plain": [
       "PiNetwork(\n",
       "  (model): Sequential(\n",
       "    (fc1): Linear(in_features=48, out_features=128, bias=True)\n",
       "    (relu1): ReLU()\n",
       "    (fc2): Linear(in_features=128, out_features=64, bias=True)\n",
       "    (relu2): ReLU()\n",
       "    (logits): Linear(in_features=64, out_features=4, bias=True)\n",
       "    (tanh): Tanh()\n",
       "  )\n",
       ")"
      ]
     },
     "execution_count": 14,
     "metadata": {},
     "output_type": "execute_result"
    }
   ],
   "source": [
    "import torch\n",
    "actor = trainer.agent.actor_local#.state_dict()\n",
    "\n",
    "#import torch\n",
    "path = './coop_policy_network_tennis'\n",
    "#actor = trainer.agent.actor_local.state_dict()\n",
    "#torch.save(trainer.agent.actor_local.state_dict(), path)\n",
    "\n",
    "actor = PiNetwork(input_size=state_size*2, output_size=action_size*2, layer_size1=128, layer_size2=64, lr=LR_ACTOR)\n",
    "actor.load_state_dict(torch.load(path))\n",
    "actor.eval()"
   ]
  },
  {
   "cell_type": "code",
   "execution_count": 15,
   "metadata": {},
   "outputs": [],
   "source": [
    "env = environment_single_wrapper(env)"
   ]
  },
  {
   "cell_type": "code",
   "execution_count": 16,
   "metadata": {},
   "outputs": [
    {
     "name": "stdout",
     "output_type": "stream",
     "text": [
      "Score (max over agents) from episode 1: 0.09000000171363354\n",
      "Score (max over agents) from episode 2: 5.200000077486038\n",
      "Score (max over agents) from episode 3: 5.300000078976154\n",
      "Score (max over agents) from episode 4: 3.090000046417117\n",
      "Score (max over agents) from episode 5: 5.200000077486038\n",
      "Score (max over agents) from episode 6: -0.009999999776482582\n",
      "Score (max over agents) from episode 7: 5.200000077486038\n",
      "Score (max over agents) from episode 8: 5.300000078976154\n",
      "Score (max over agents) from episode 9: 3.1900000479072332\n",
      "Score (max over agents) from episode 10: 5.200000077486038\n",
      "Score (max over agents) from episode 11: 5.300000078976154\n",
      "Score (max over agents) from episode 12: 5.200000077486038\n",
      "Score (max over agents) from episode 13: 5.300000078976154\n",
      "Score (max over agents) from episode 14: 1.6900000255554914\n",
      "Score (max over agents) from episode 15: 5.200000077486038\n",
      "Score (max over agents) from episode 16: 0.3900000061839819\n",
      "Score (max over agents) from episode 17: 5.200000077486038\n",
      "Score (max over agents) from episode 18: 5.300000078976154\n",
      "Score (max over agents) from episode 19: 5.200000077486038\n",
      "Score (max over agents) from episode 20: 0.19000000320374966\n",
      "Score (max over agents) from episode 21: 5.200000077486038\n",
      "Score (max over agents) from episode 22: 5.300000078976154\n",
      "Score (max over agents) from episode 23: 0.3900000061839819\n",
      "Score (max over agents) from episode 24: 5.200000077486038\n",
      "Score (max over agents) from episode 25: 2.5900000389665365\n",
      "Score (max over agents) from episode 26: 5.200000077486038\n",
      "Score (max over agents) from episode 27: 4.790000071749091\n",
      "Score (max over agents) from episode 28: 5.200000077486038\n",
      "Score (max over agents) from episode 29: 5.300000078976154\n",
      "Score (max over agents) from episode 30: 5.200000077486038\n",
      "Score (max over agents) from episode 31: 0.19000000320374966\n",
      "Score (max over agents) from episode 32: 5.200000077486038\n",
      "Score (max over agents) from episode 33: 5.300000078976154\n",
      "Score (max over agents) from episode 34: 5.200000077486038\n",
      "Score (max over agents) from episode 35: 5.300000078976154\n",
      "Score (max over agents) from episode 36: 5.200000077486038\n",
      "Score (max over agents) from episode 37: 0.490000007674098\n",
      "Score (max over agents) from episode 38: 5.200000077486038\n",
      "Score (max over agents) from episode 39: 5.300000078976154\n",
      "Score (max over agents) from episode 40: 5.200000077486038\n",
      "Score (max over agents) from episode 41: 1.2900000214576721\n",
      "Score (max over agents) from episode 42: 0.6900000106543303\n",
      "Score (max over agents) from episode 43: 5.200000077486038\n",
      "Score (max over agents) from episode 44: 0.490000007674098\n",
      "Score (max over agents) from episode 45: 0.09000000171363354\n",
      "Score (max over agents) from episode 46: 5.200000077486038\n",
      "Score (max over agents) from episode 47: 5.200000077486038\n",
      "Score (max over agents) from episode 48: 0.3900000061839819\n",
      "Score (max over agents) from episode 49: 5.200000077486038\n",
      "Score (max over agents) from episode 50: 5.300000078976154\n",
      "Score (max over agents) from episode 51: 5.200000077486038\n",
      "Score (max over agents) from episode 52: 5.300000078976154\n",
      "Score (max over agents) from episode 53: 5.200000077486038\n",
      "Score (max over agents) from episode 54: 0.19000000320374966\n",
      "Score (max over agents) from episode 55: 0.3900000061839819\n",
      "Score (max over agents) from episode 56: 5.200000077486038\n",
      "Score (max over agents) from episode 57: -0.009999999776482582\n",
      "Score (max over agents) from episode 58: 5.200000077486038\n",
      "Score (max over agents) from episode 59: 2.290000034496188\n",
      "Score (max over agents) from episode 60: 4.690000070258975\n",
      "Score (max over agents) from episode 61: 5.200000077486038\n",
      "Score (max over agents) from episode 62: 5.300000078976154\n",
      "Score (max over agents) from episode 63: 1.7900000270456076\n",
      "Score (max over agents) from episode 64: 0.3900000061839819\n",
      "Score (max over agents) from episode 65: 5.200000077486038\n",
      "Score (max over agents) from episode 66: 5.300000078976154\n",
      "Score (max over agents) from episode 67: 5.200000077486038\n",
      "Score (max over agents) from episode 68: 5.200000077486038\n",
      "Score (max over agents) from episode 69: 5.300000078976154\n",
      "Score (max over agents) from episode 70: 5.300000078976154\n",
      "Score (max over agents) from episode 71: 5.200000077486038\n",
      "Score (max over agents) from episode 72: 0.09000000171363354\n",
      "Score (max over agents) from episode 73: 5.200000077486038\n",
      "Score (max over agents) from episode 74: 5.300000078976154\n",
      "Score (max over agents) from episode 75: 5.200000077486038\n",
      "Score (max over agents) from episode 76: 5.300000078976154\n",
      "Score (max over agents) from episode 77: 5.200000077486038\n",
      "Score (max over agents) from episode 78: 5.300000078976154\n",
      "Score (max over agents) from episode 79: 5.200000077486038\n",
      "Score (max over agents) from episode 80: 0.3900000061839819\n",
      "Score (max over agents) from episode 81: 5.200000077486038\n",
      "Score (max over agents) from episode 82: 0.2900000046938658\n",
      "Score (max over agents) from episode 83: 3.5900000538676977\n",
      "Score (max over agents) from episode 84: 5.200000077486038\n",
      "Score (max over agents) from episode 85: -0.009999999776482582\n",
      "Score (max over agents) from episode 86: 0.3900000061839819\n",
      "Score (max over agents) from episode 87: 5.200000077486038\n",
      "Score (max over agents) from episode 88: 0.09000000171363354\n",
      "Score (max over agents) from episode 89: 0.09000000171363354\n",
      "Score (max over agents) from episode 90: 5.200000077486038\n",
      "Score (max over agents) from episode 91: 5.300000078976154\n",
      "Score (max over agents) from episode 92: 5.200000077486038\n",
      "Score (max over agents) from episode 93: 2.290000034496188\n",
      "Score (max over agents) from episode 94: 0.09000000171363354\n",
      "Score (max over agents) from episode 95: 5.200000077486038\n",
      "Score (max over agents) from episode 96: 5.300000078976154\n",
      "Score (max over agents) from episode 97: 5.200000077486038\n",
      "Score (max over agents) from episode 98: 5.300000078976154\n",
      "Score (max over agents) from episode 99: 5.200000077486038\n",
      "Mean score over all episodes 2.475621789956954\n"
     ]
    }
   ],
   "source": [
    "mean_scores = []\n",
    "for i in range(1, 100):                                      # play game for 5 episodes\n",
    "    env_info = env.reset(train_mode=True)[brain_name]     # reset the environment    \n",
    "    states = env_info.vector_observations                  # get the current state (for each agent)\n",
    "    scores = np.zeros(num_agents)                          # initialize the score (for each agent)\n",
    "    while True:\n",
    "        #actions = np.random.randn(num_agents, action_size) # select an action (for each agent)\n",
    "        actions = actor(torch.from_numpy(states).float()).cpu().data.numpy()\n",
    "        #actions = trainer.agent.act(states)\n",
    "        #actions = np.clip(actions, -1, 1)                  # all actions between -1 and 1\n",
    "        env_info = env.step(actions[:2])[brain_name]           # send all actions to tne environment\n",
    "        next_states = env_info.vector_observations         # get next state (for each agent)\n",
    "        rewards = env_info.rewards                         # get reward (for each agent)\n",
    "        dones = env_info.local_done                        # see if episode finished\n",
    "        scores += env_info.rewards                         # update the score (for each agent)\n",
    "        states = next_states                               # roll over states to next time step\n",
    "        if np.any(dones):                                  # exit loop if episode finished\n",
    "            break\n",
    "        mean_scores.append(np.max(scores))\n",
    "    print('Score (max over agents) from episode {}: {}'.format(i, np.max(scores)))\n",
    "print('Mean score over all episodes {}'.format(np.mean(mean_scores)))"
   ]
  },
  {
   "cell_type": "code",
   "execution_count": null,
   "metadata": {},
   "outputs": [],
   "source": []
  }
 ],
 "metadata": {
  "kernelspec": {
   "display_name": "Python 3",
   "language": "python",
   "name": "python3"
  },
  "language_info": {
   "codemirror_mode": {
    "name": "ipython",
    "version": 3
   },
   "file_extension": ".py",
   "mimetype": "text/x-python",
   "name": "python",
   "nbconvert_exporter": "python",
   "pygments_lexer": "ipython3",
   "version": "3.6.10"
  }
 },
 "nbformat": 4,
 "nbformat_minor": 2
}
