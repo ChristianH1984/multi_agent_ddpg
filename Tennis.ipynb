{
 "cells": [
  {
   "cell_type": "markdown",
   "metadata": {},
   "source": [
    "# Collaboration and Competition"
   ]
  },
  {
   "cell_type": "code",
   "execution_count": 1,
   "metadata": {},
   "outputs": [],
   "source": [
    "from unityagents import UnityEnvironment\n",
    "import numpy as np"
   ]
  },
  {
   "cell_type": "code",
   "execution_count": 2,
   "metadata": {},
   "outputs": [
    {
     "name": "stderr",
     "output_type": "stream",
     "text": [
      "INFO:unityagents:\n",
      "'Academy' started successfully!\n",
      "Unity Academy name: Academy\n",
      "        Number of Brains: 1\n",
      "        Number of External Brains : 1\n",
      "        Lesson number : 0\n",
      "        Reset Parameters :\n",
      "\t\t\n",
      "Unity brain name: TennisBrain\n",
      "        Number of Visual Observations (per agent): 0\n",
      "        Vector Observation space type: continuous\n",
      "        Vector Observation space size (per agent): 8\n",
      "        Number of stacked Vector Observation: 3\n",
      "        Vector Action space type: continuous\n",
      "        Vector Action space size (per agent): 2\n",
      "        Vector Action descriptions: , \n"
     ]
    }
   ],
   "source": [
    "env = UnityEnvironment(file_name=\"./Tennis_Windows_x86_64/Tennis.exe\")"
   ]
  },
  {
   "cell_type": "code",
   "execution_count": 3,
   "metadata": {},
   "outputs": [],
   "source": [
    "# get the default brain\n",
    "brain_name = env.brain_names[0]\n",
    "brain = env.brains[brain_name]"
   ]
  },
  {
   "cell_type": "code",
   "execution_count": 4,
   "metadata": {},
   "outputs": [
    {
     "name": "stdout",
     "output_type": "stream",
     "text": [
      "Number of agents: 2\n",
      "Size of each action: 2\n",
      "There are 2 agents. Each observes a state with length: 24\n",
      "The state for the first agent looks like: [ 0.          0.          0.          0.          0.          0.\n",
      "  0.          0.          0.          0.          0.          0.\n",
      "  0.          0.          0.          0.         -6.65278625 -1.5\n",
      " -0.          0.          6.83172083  6.         -0.          0.        ]\n",
      "The state for the second agent looks like: [ 0.          0.          0.          0.          0.          0.\n",
      "  0.          0.          0.          0.          0.          0.\n",
      "  0.          0.          0.          0.         -6.4669857  -1.5\n",
      "  0.          0.         -6.83172083  6.          0.          0.        ]\n"
     ]
    }
   ],
   "source": [
    "# reset the environment\n",
    "env_info = env.reset(train_mode=True)[brain_name]\n",
    "\n",
    "# number of agents \n",
    "num_agents = len(env_info.agents)\n",
    "print('Number of agents:', num_agents)\n",
    "\n",
    "# size of each action\n",
    "action_size = brain.vector_action_space_size\n",
    "print('Size of each action:', action_size)\n",
    "\n",
    "# examine the state space \n",
    "states = env_info.vector_observations\n",
    "state_size = states.shape[1]\n",
    "print('There are {} agents. Each observes a state with length: {}'.format(states.shape[0], state_size))\n",
    "print('The state for the first agent looks like:', states[0])\n",
    "print('The state for the second agent looks like:', states[1])"
   ]
  },
  {
   "cell_type": "markdown",
   "metadata": {},
   "source": [
    "### Benchmark model\n",
    "\n",
    "First a benchmark model is implemented. Therefore the multi agent problem is reformulated into a single DDPG problem and more or less the code from the policy gradient continuous control problem is used. \n",
    "There is only one policy which receives both state vectors and outputs the actions of both agents. Also the critic receives both states and the actions of both actors.\n",
    "\n",
    "Due to the small state space size $48=2*24$ and the small action size rather simple networks with two hidden layers are used.\n",
    "Both have relu activation functions and a final output layer with tanh activation for the actor and linear activation for the critic network.\n",
    "The actor network consists of 128 and 64 neurons in the first and second hidden layer, while the critic network 128 neurons in each hidden layer.\n",
    "\n",
    "The following paramters are used:\n",
    "\n",
    "- $\\gamma$: Discount factor during the computation of the target $(target = reward + gamma*Qvalue(state_{t+1}, action_{t+1}))$.\n",
    "- $\\tau$, update_every: $\\tau$ is a float value used to compute the convex combination of old Q-network's and target Q-network's weights. The weights are updated every update_every steps to stabilize the learning process.\n",
    "- $lr_{actor}, lr_{critic}$: Learning rates for the optimizer of the Q-network and the Policy network.\n",
    "\n",
    "\n",
    "In order to explore the environment Gaussian noise is added to the agent's actions. The standard deviation $\\sigma$ of the agent starts with a value of $1.0$ and then decreases to $0.05$ via $\\sigma * 0.999^{iter}$."
   ]
  },
  {
   "cell_type": "code",
   "execution_count": 5,
   "metadata": {},
   "outputs": [],
   "source": [
    "BUFFER_SIZE = 10000  # replay buffer size\n",
    "BATCH_SIZE = 16        # minibatch size\n",
    "GAMMA = 0.98            # discount factor\n",
    "TAU = 5e-4              # for soft update of target parameters\n",
    "LR_ACTOR = 1e-4       # learning rate of the actor \n",
    "LR_CRITIC = 1e-4       # learning rate of the critic"
   ]
  },
  {
   "cell_type": "code",
   "execution_count": 6,
   "metadata": {},
   "outputs": [],
   "source": [
    "class environment_single_wrapper():\n",
    "    def __init__(self, env):\n",
    "        self.env = env\n",
    "        self.vector_observations = self.env\n",
    "        self.brain_names = self.env.brain_names\n",
    "        \n",
    "    def reset(self, train_mode):\n",
    "        self.env_info = self.env.reset(train_mode)\n",
    "        return self\n",
    "    \n",
    "    def __getitem__(self, brain_name):\n",
    "        self.env_info = self.env_info[brain_name]\n",
    "        self.vector_observations = self.env_info.vector_observations.reshape(1,-1)\n",
    "        self.rewards = np.array([sum(self.env_info.rewards)]).reshape(1,-1)\n",
    "        self.local_done = np.array([max(self.env_info.local_done)]).reshape(1,-1)\n",
    "        return self\n",
    "    \n",
    "    def step(self, action):\n",
    "        self.env_info = self.env.step(action)\n",
    "        return self"
   ]
  },
  {
   "cell_type": "code",
   "execution_count": 7,
   "metadata": {},
   "outputs": [],
   "source": [
    "from pi_network import PiNetwork\n",
    "from q_network import QNetwork\n",
    "\n",
    "actor = PiNetwork(input_size=state_size*2, output_size=action_size*2, layer_size1=128, layer_size2=64, lr=LR_ACTOR)\n",
    "critic = QNetwork(input_size=state_size*2+action_size*2, layer_size1=128, layer_size2=128, lr=LR_CRITIC)\n",
    "\n",
    "from agent import  DeterministicActorCriticAgent\n",
    "from noise import OUNoise, GaussianNoise\n",
    "from replay_buffer import ReplayBuffer\n",
    "from trainer import Trainer\n",
    "\n",
    "\n",
    "memory = ReplayBuffer(state_size, BUFFER_SIZE , BATCH_SIZE, 1337)\n",
    "noise = GaussianNoise(action_size*2, 1, 1337, sigma=1.0, sigma_decay=0.999, sigma_min=0.025)\n",
    "ac =  DeterministicActorCriticAgent(gamma=GAMMA, tau=TAU, batch_size=BATCH_SIZE, update_every=1,\n",
    "                                    actor=actor, critic=critic, memory=memory, noise=noise)\n",
    "\n",
    "trainer = Trainer(environment_single_wrapper(env), ac)"
   ]
  },
  {
   "cell_type": "code",
   "execution_count": 8,
   "metadata": {},
   "outputs": [
    {
     "name": "stdout",
     "output_type": "stream",
     "text": [
      "\r",
      "Episode 0\tAverage Score: -0.01\r",
      "Episode 0\tAverage Score: -0.01\n",
      "\r",
      "Episode 1\tAverage Score: 0.04"
     ]
    },
    {
     "name": "stderr",
     "output_type": "stream",
     "text": [
      "E:\\github\\multi_agent_ddpg\\agent.py:123: UserWarning: torch.nn.utils.clip_grad_norm is now deprecated in favor of torch.nn.utils.clip_grad_norm_.\n",
      "  torch.nn.utils.clip_grad_norm(self.critic_local.parameters(), 1)\n"
     ]
    },
    {
     "name": "stdout",
     "output_type": "stream",
     "text": [
      "Episode 100\tAverage Score: -0.01\n",
      "Episode 200\tAverage Score: -0.00\n",
      "Episode 300\tAverage Score: -0.01\n",
      "Episode 400\tAverage Score: -0.01\n",
      "Episode 500\tAverage Score: -0.00\n",
      "Episode 600\tAverage Score: 0.000\n",
      "Episode 700\tAverage Score: -0.00\n",
      "Episode 800\tAverage Score: -0.01\n",
      "Episode 900\tAverage Score: 0.010\n",
      "Episode 1000\tAverage Score: 0.02\n",
      "Episode 1100\tAverage Score: 0.010\n",
      "Episode 1200\tAverage Score: -0.01\n",
      "Episode 1300\tAverage Score: 0.001\n",
      "Episode 1400\tAverage Score: 0.010\n",
      "Episode 1500\tAverage Score: 0.010\n",
      "Episode 1600\tAverage Score: -0.00\n",
      "Episode 1700\tAverage Score: 0.060\n",
      "Episode 1800\tAverage Score: 0.05\n",
      "Episode 1900\tAverage Score: -0.00\n",
      "Episode 2000\tAverage Score: 0.041\n",
      "Episode 2100\tAverage Score: 0.020\n",
      "Episode 2200\tAverage Score: -0.00\n",
      "Episode 2300\tAverage Score: 0.020\n",
      "Episode 2400\tAverage Score: 0.010\n",
      "Episode 2500\tAverage Score: 0.001\n",
      "Episode 2600\tAverage Score: 0.030\n",
      "Episode 2700\tAverage Score: 0.04\n",
      "Episode 2800\tAverage Score: 0.06\n",
      "Episode 2900\tAverage Score: 0.01\n",
      "Episode 3000\tAverage Score: 0.010\n",
      "Episode 3100\tAverage Score: 0.040\n",
      "Episode 3200\tAverage Score: 0.03\n",
      "Episode 3300\tAverage Score: 0.01\n",
      "Episode 3400\tAverage Score: 0.000\n",
      "Episode 3500\tAverage Score: 0.030\n",
      "Episode 3600\tAverage Score: 0.03\n",
      "Episode 3700\tAverage Score: 0.02\n",
      "Episode 3800\tAverage Score: 0.07\n",
      "Episode 3900\tAverage Score: 0.04\n",
      "Episode 4000\tAverage Score: 0.050\n",
      "Episode 4100\tAverage Score: 0.06\n",
      "Episode 4200\tAverage Score: 0.06\n",
      "Episode 4300\tAverage Score: 0.05\n",
      "Episode 4400\tAverage Score: 0.05\n",
      "Episode 4500\tAverage Score: 0.08\n",
      "Episode 4600\tAverage Score: 0.13\n",
      "Episode 4700\tAverage Score: 0.08\n",
      "Episode 4800\tAverage Score: 0.08\n",
      "Episode 4900\tAverage Score: 0.10\n",
      "Episode 5000\tAverage Score: 0.08\n",
      "Episode 5100\tAverage Score: 0.06\n",
      "Episode 5200\tAverage Score: 0.14\n",
      "Episode 5300\tAverage Score: 0.16\n",
      "Episode 5400\tAverage Score: 0.08\n",
      "Episode 5500\tAverage Score: 0.15\n",
      "Episode 5600\tAverage Score: 0.08\n",
      "Episode 5700\tAverage Score: 0.14\n",
      "Episode 5800\tAverage Score: 0.09\n",
      "Episode 5900\tAverage Score: 0.09\n",
      "Episode 6000\tAverage Score: 0.15\n",
      "Episode 6100\tAverage Score: 0.14\n",
      "Episode 6200\tAverage Score: 0.16\n",
      "Episode 6300\tAverage Score: 0.22\n",
      "Episode 6400\tAverage Score: 0.21\n",
      "Episode 6500\tAverage Score: 0.13\n",
      "Episode 6600\tAverage Score: 0.15\n",
      "Episode 6700\tAverage Score: 0.15\n",
      "Episode 6800\tAverage Score: 0.25\n",
      "Episode 6900\tAverage Score: 0.23\n",
      "Episode 7000\tAverage Score: 0.17\n",
      "Episode 7100\tAverage Score: 0.13\n",
      "Episode 7200\tAverage Score: 0.23\n",
      "Episode 7300\tAverage Score: 0.19\n",
      "Episode 7400\tAverage Score: 0.15\n",
      "Episode 7500\tAverage Score: 0.25\n",
      "Episode 7600\tAverage Score: 0.27\n",
      "Episode 7700\tAverage Score: 0.16\n",
      "Episode 7800\tAverage Score: 0.27\n",
      "Episode 7900\tAverage Score: 0.09\n",
      "Episode 7999\tAverage Score: 0.18"
     ]
    }
   ],
   "source": [
    "scores = trainer.train(8000)"
   ]
  },
  {
   "cell_type": "code",
   "execution_count": 9,
   "metadata": {},
   "outputs": [
    {
     "data": {
      "text/plain": [
       "<matplotlib.legend.Legend at 0x282494b9da0>"
      ]
     },
     "execution_count": 9,
     "metadata": {},
     "output_type": "execute_result"
    },
    {
     "data": {
      "image/png": "[encoded data removed]",
      "text/plain": [
       "<Figure size 1080x576 with 1 Axes>"
      ]
     },
     "metadata": {
      "needs_background": "light"
     },
     "output_type": "display_data"
    }
   ],
   "source": [
    "import matplotlib.pyplot as plt\n",
    "%matplotlib inline\n",
    "import pandas as pd\n",
    "\n",
    "\n",
    "plt.figure(figsize=(15,8))\n",
    "pd.Series(scores, name='DDPG').plot()\n",
    "pd.Series(scores, name='Rolling mean DDPG (length: 100)').rolling(100).mean().plot()\n",
    "plt.title('Score: Tennis environment')\n",
    "plt.legend()"
   ]
  },
  {
   "cell_type": "code",
   "execution_count": 10,
   "metadata": {},
   "outputs": [],
   "source": [
    "import torch\n",
    "actor = trainer.agent.actor_local\n",
    "\n",
    "#path = './coop_policy_network_tennis'\n",
    "#actor = trainer.agent.actor_local.state_dict()\n",
    "#torch.save(trainer.agent.actor_local.state_dict(), path)\n",
    "\n",
    "#actor = PiNetwork(input_size=state_size*2, output_size=action_size*2, layer_size1=128, layer_size2=64, lr=LR_ACTOR)\n",
    "#actor.load_state_dict(torch.load(path))\n",
    "#actor.eval()"
   ]
  },
  {
   "cell_type": "code",
   "execution_count": 11,
   "metadata": {},
   "outputs": [],
   "source": [
    "env_wrapped = environment_single_wrapper(env)"
   ]
  },
  {
   "cell_type": "code",
   "execution_count": 12,
   "metadata": {},
   "outputs": [
    {
     "name": "stdout",
     "output_type": "stream",
     "text": [
      "Score (max over agents) from episode 1: 0.8900000136345625\n",
      "Score (max over agents) from episode 2: 0.09000000171363354\n",
      "Score (max over agents) from episode 3: 5.000000074505806\n",
      "Score (max over agents) from episode 4: 2.890000043436885\n",
      "Score (max over agents) from episode 5: 0.09000000171363354\n",
      "Score (max over agents) from episode 6: 0.09000000171363354\n",
      "Score (max over agents) from episode 7: 5.100000075995922\n",
      "Score (max over agents) from episode 8: 2.090000031515956\n",
      "Score (max over agents) from episode 9: 1.8900000285357237\n",
      "Score (max over agents) from episode 10: 1.7900000289082527\n",
      "Score (max over agents) from episode 11: 1.1900000181049109\n",
      "Score (max over agents) from episode 12: 0.3900000061839819\n",
      "Score (max over agents) from episode 13: 4.2900000642985106\n",
      "Score (max over agents) from episode 14: 0.09000000171363354\n",
      "Score (max over agents) from episode 15: 5.000000074505806\n",
      "Score (max over agents) from episode 16: 0.2900000046938658\n",
      "Score (max over agents) from episode 17: 0.5900000091642141\n",
      "Score (max over agents) from episode 18: 1.0900000166147947\n",
      "Score (max over agents) from episode 19: 0.09000000171363354\n",
      "Score (max over agents) from episode 20: 1.4900000225752592\n",
      "Score (max over agents) from episode 21: 0.09000000171363354\n",
      "Score (max over agents) from episode 22: 0.09000000171363354\n",
      "Score (max over agents) from episode 23: 0.7900000121444464\n",
      "Score (max over agents) from episode 24: 0.09000000171363354\n",
      "Score (max over agents) from episode 25: 0.09000000171363354\n",
      "Score (max over agents) from episode 26: 3.090000046417117\n",
      "Score (max over agents) from episode 27: 0.3900000061839819\n",
      "Score (max over agents) from episode 28: 0.09000000171363354\n",
      "Score (max over agents) from episode 29: 0.7900000121444464\n",
      "Score (max over agents) from episode 30: 0.09000000171363354\n",
      "Score (max over agents) from episode 31: 1.8900000285357237\n",
      "Score (max over agents) from episode 32: 0.09000000171363354\n",
      "Score (max over agents) from episode 33: 1.1900000181049109\n",
      "Score (max over agents) from episode 34: 0.2900000046938658\n",
      "Score (max over agents) from episode 35: 0.3900000061839819\n",
      "Score (max over agents) from episode 36: 0.09000000171363354\n",
      "Score (max over agents) from episode 37: 4.190000062808394\n",
      "Score (max over agents) from episode 38: 0.2900000046938658\n",
      "Score (max over agents) from episode 39: 0.2900000046938658\n",
      "Score (max over agents) from episode 40: 1.7900000270456076\n",
      "Score (max over agents) from episode 41: 5.100000075995922\n",
      "Score (max over agents) from episode 42: 0.7900000121444464\n",
      "Score (max over agents) from episode 43: 0.19000000320374966\n",
      "Score (max over agents) from episode 44: 0.09000000171363354\n",
      "Score (max over agents) from episode 45: 0.09000000171363354\n",
      "Score (max over agents) from episode 46: 0.09000000171363354\n",
      "Score (max over agents) from episode 47: 2.4900000374764204\n",
      "Score (max over agents) from episode 48: 0.3900000061839819\n",
      "Score (max over agents) from episode 49: 1.1900000181049109\n",
      "Score (max over agents) from episode 50: 1.6900000255554914\n",
      "Score (max over agents) from episode 51: 5.000000074505806\n",
      "Score (max over agents) from episode 52: 5.100000075995922\n",
      "Score (max over agents) from episode 53: 0.19000000320374966\n",
      "Score (max over agents) from episode 54: 2.4900000374764204\n",
      "Score (max over agents) from episode 55: 0.6900000106543303\n",
      "Score (max over agents) from episode 56: 0.09000000171363354\n",
      "Score (max over agents) from episode 57: 2.190000033006072\n",
      "Score (max over agents) from episode 58: 1.0900000166147947\n",
      "Score (max over agents) from episode 59: 0.490000007674098\n",
      "Score (max over agents) from episode 60: 1.9900000300258398\n",
      "Score (max over agents) from episode 61: 1.4900000225752592\n",
      "Score (max over agents) from episode 62: 2.3900000359863043\n",
      "Score (max over agents) from episode 63: 0.09000000171363354\n",
      "Score (max over agents) from episode 64: 2.7900000419467688\n",
      "Score (max over agents) from episode 65: 0.09000000171363354\n",
      "Score (max over agents) from episode 66: 2.290000034496188\n",
      "Score (max over agents) from episode 67: 5.000000074505806\n",
      "Score (max over agents) from episode 68: -0.009999999776482582\n",
      "Score (max over agents) from episode 69: 0.9900000151246786\n",
      "Score (max over agents) from episode 70: 0.3900000061839819\n",
      "Score (max over agents) from episode 71: 1.290000019595027\n",
      "Score (max over agents) from episode 72: 0.6900000106543303\n",
      "Score (max over agents) from episode 73: 0.5900000091642141\n",
      "Score (max over agents) from episode 74: 4.490000067278743\n",
      "Score (max over agents) from episode 75: 0.8900000136345625\n",
      "Score (max over agents) from episode 76: 0.3900000061839819\n",
      "Score (max over agents) from episode 77: 0.09000000171363354\n",
      "Score (max over agents) from episode 78: 1.8900000285357237\n",
      "Score (max over agents) from episode 79: 0.09000000171363354\n",
      "Score (max over agents) from episode 80: 1.1900000181049109\n",
      "Score (max over agents) from episode 81: 0.5900000091642141\n",
      "Score (max over agents) from episode 82: 1.190000019967556\n",
      "Score (max over agents) from episode 83: 5.100000075995922\n",
      "Score (max over agents) from episode 84: 5.100000075995922\n",
      "Score (max over agents) from episode 85: 1.5900000240653753\n",
      "Score (max over agents) from episode 86: 0.09000000171363354\n",
      "Score (max over agents) from episode 87: 0.09000000171363354\n",
      "Score (max over agents) from episode 88: 5.100000075995922\n",
      "Score (max over agents) from episode 89: 0.6900000106543303\n",
      "Score (max over agents) from episode 90: 0.09000000171363354\n",
      "Score (max over agents) from episode 91: 1.390000021085143\n",
      "Score (max over agents) from episode 92: 0.09000000171363354\n",
      "Score (max over agents) from episode 93: 5.100000075995922\n",
      "Score (max over agents) from episode 94: 0.09000000171363354\n",
      "Score (max over agents) from episode 95: 3.890000058338046\n",
      "Score (max over agents) from episode 96: 3.990000059828162\n",
      "Score (max over agents) from episode 97: 0.09000000171363354\n",
      "Score (max over agents) from episode 98: 1.4900000225752592\n",
      "Score (max over agents) from episode 99: 0.09000000171363354\n",
      "Mean score over all episodes 1.4638384060200416\n"
     ]
    }
   ],
   "source": [
    "scores = []\n",
    "for i in range(1, 100):                                      # play game for 5 episodes\n",
    "    env_info = env_wrapped.reset(train_mode=True)[brain_name]     # reset the environment    \n",
    "    states = env_info.vector_observations                  # get the current state (for each agent)\n",
    "    score = []                  # initialize the score (for each agent)\n",
    "    while True:\n",
    "        actions = actor(torch.from_numpy(states).float()).cpu().data.numpy()\n",
    "        env_info = env_wrapped.step(actions)[brain_name]           # send all actions to tne environment\n",
    "        next_states = env_info.vector_observations         # get next state (for each agent)\n",
    "        rewards = env_info.rewards                         # get reward (for each agent)\n",
    "        dones = env_info.local_done                        # see if episode finished\n",
    "        score.append(env_info.rewards)                         # update the score (for each agent)\n",
    "        states = next_states                               # roll over states to next time step\n",
    "        if np.any(dones):                                  # exit loop if episode finished\n",
    "            break\n",
    "\n",
    "    max_score_in_episode = np.max((np.sum(np.array(score).reshape(-1, len(env_info.rewards)), axis=0)))\n",
    "    scores.append(max_score_in_episode)\n",
    "    print('Score (max over agents) from episode {}: {}'.format(i, max_score_in_episode))\n",
    "\n",
    "print('Mean score over all episodes {}'.format(np.mean(scores)))"
   ]
  },
  {
   "cell_type": "code",
   "execution_count": 13,
   "metadata": {},
   "outputs": [
    {
     "name": "stdout",
     "output_type": "stream",
     "text": [
      "Score (max over agents) from episode 1: 3.2900000493973494\n",
      "Score (max over agents) from episode 2: 0.8900000136345625\n",
      "Mean score over all episodes 2.090000031515956\n"
     ]
    }
   ],
   "source": [
    "scores = []\n",
    "for i in range(1, 3):                                      # play game for 5 episodes\n",
    "    env_info = env_wrapped.reset(train_mode=False)[brain_name]     # reset the environment    \n",
    "    states = env_info.vector_observations                  # get the current state (for each agent)\n",
    "    score = []                  # initialize the score (for each agent)\n",
    "    while True:\n",
    "        actions = actor(torch.from_numpy(states).float()).cpu().data.numpy()\n",
    "        env_info = env_wrapped.step(actions)[brain_name]           # send all actions to tne environment\n",
    "        next_states = env_info.vector_observations         # get next state (for each agent)\n",
    "        rewards = env_info.rewards                         # get reward (for each agent)\n",
    "        dones = env_info.local_done                        # see if episode finished\n",
    "        score.append(env_info.rewards)                         # update the score (for each agent)\n",
    "        states = next_states                               # roll over states to next time step\n",
    "        if np.any(dones):                                  # exit loop if episode finished\n",
    "            break\n",
    "\n",
    "    max_score_in_episode = np.max((np.sum(np.array(score).reshape(-1, len(env_info.rewards)), axis=0)))\n",
    "    scores.append(max_score_in_episode)\n",
    "    print('Score (max over agents) from episode {}: {}'.format(i, max_score_in_episode))\n",
    "\n",
    "print('Mean score over all episodes {}'.format(np.mean(scores)))"
   ]
  },
  {
   "cell_type": "markdown",
   "metadata": {},
   "source": [
    "## Multi agent"
   ]
  },
  {
   "cell_type": "markdown",
   "metadata": {},
   "source": [
    "In the previous version only one network controlled the actions of both actions. In the following a more natural approach shall be taken, where each action is controlled by one network and the network only receives its own states, which makes it for the actor more difficult, but more realistic.\n",
    "\n",
    "Each actor network receives only the actor's state and outputs his corresponding action. Two Q-Networks are trained, where each network receives all states and actions. The only difference lies in the temporal difference target, where the i-th actor reward is used. Here all actions are taken into account to make the environment stationary. If the Q-Network would only receive one policy the environment would become non-stationary from the perspective of the agent.\n",
    "\n",
    "Compared to the benchmark model above the state and action space size is reduced and hence a slightly smaller network with 64 neurons in both hidden layers is used. The critic network structure remains the same.\n",
    "\n",
    "The other parameters remain unchanged:"
   ]
  },
  {
   "cell_type": "code",
   "execution_count": 5,
   "metadata": {},
   "outputs": [],
   "source": [
    "BUFFER_SIZE = 10000  # replay buffer size\n",
    "BATCH_SIZE = 16        # minibatch size\n",
    "GAMMA = 0.98            # discount factor\n",
    "TAU = 5e-4              # for soft update of target parameters\n",
    "LR_ACTOR = 1e-4       # learning rate of the actor \n",
    "LR_CRITIC = 1e-4       # learning rate of the critic"
   ]
  },
  {
   "cell_type": "code",
   "execution_count": 6,
   "metadata": {},
   "outputs": [],
   "source": [
    "from pi_network import PiNetwork\n",
    "from q_network import QNetwork\n",
    "\n",
    "actor1 = PiNetwork(input_size=state_size, output_size=action_size, layer_size1=64, layer_size2=64, lr=LR_ACTOR)\n",
    "actor2 = PiNetwork(input_size=state_size, output_size=action_size, layer_size1=64, layer_size2=64, lr=LR_ACTOR)\n",
    "critic1 = QNetwork(input_size=state_size*2+action_size*2, layer_size1=128, layer_size2=128, lr=LR_CRITIC)\n",
    "critic2 = QNetwork(input_size=state_size*2+action_size*2, layer_size1=128, layer_size2=128, lr=LR_CRITIC)\n",
    "\n",
    "from agent import  MultiAgentDeterministicActorCriticAgent\n",
    "from noise import OUNoise, GaussianNoise\n",
    "from replay_buffer import ReplayBuffer\n",
    "from trainer import Trainer\n",
    "\n",
    "\n",
    "memory = ReplayBuffer(state_size, BUFFER_SIZE , BATCH_SIZE, 1337)\n",
    "#noise = OUNoise(action_size*2, 1, 1337, sigma_decay=0.999, sigma=0.5, sigma_min=0.025)\n",
    "noise = GaussianNoise(action_size, 2, 1337, sigma=1.0, sigma_decay=0.999, sigma_min=0.025)\n",
    "ac =  MultiAgentDeterministicActorCriticAgent(gamma=GAMMA, tau=TAU, batch_size=BATCH_SIZE, update_every=1,\n",
    "                                    actors=[actor1, actor2], critics=[critic1, critic2], memory=memory, noise=noise)\n",
    "\n",
    "trainer = Trainer(env, ac)"
   ]
  },
  {
   "cell_type": "code",
   "execution_count": 7,
   "metadata": {},
   "outputs": [
    {
     "name": "stdout",
     "output_type": "stream",
     "text": [
      "\r",
      "Episode 0\tAverage Score: 0.00\r",
      "Episode 0\tAverage Score: 0.00\n",
      "\r",
      "Episode 1\tAverage Score: 0.00"
     ]
    },
    {
     "name": "stderr",
     "output_type": "stream",
     "text": [
      "E:\\github\\multi_agent_ddpg\\agent.py:268: UserWarning: torch.nn.utils.clip_grad_norm is now deprecated in favor of torch.nn.utils.clip_grad_norm_.\n",
      "  torch.nn.utils.clip_grad_norm(critic_local.parameters(), 1)\n"
     ]
    },
    {
     "name": "stdout",
     "output_type": "stream",
     "text": [
      "Episode 100\tAverage Score: 0.00\n",
      "Episode 200\tAverage Score: 0.01\n",
      "Episode 300\tAverage Score: 0.00\n",
      "Episode 400\tAverage Score: 0.00\n",
      "Episode 500\tAverage Score: 0.00\n",
      "Episode 600\tAverage Score: 0.01\n",
      "Episode 700\tAverage Score: 0.02\n",
      "Episode 800\tAverage Score: 0.00\n",
      "Episode 900\tAverage Score: 0.00\n",
      "Episode 1000\tAverage Score: 0.00\n",
      "Episode 1100\tAverage Score: 0.00\n",
      "Episode 1200\tAverage Score: 0.00\n",
      "Episode 1300\tAverage Score: 0.01\n",
      "Episode 1400\tAverage Score: 0.00\n",
      "Episode 1500\tAverage Score: 0.01\n",
      "Episode 1600\tAverage Score: 0.00\n",
      "Episode 1700\tAverage Score: 0.00\n",
      "Episode 1800\tAverage Score: 0.00\n",
      "Episode 1900\tAverage Score: 0.00\n",
      "Episode 2000\tAverage Score: 0.01\n",
      "Episode 2100\tAverage Score: 0.05\n",
      "Episode 2200\tAverage Score: 0.04\n",
      "Episode 2300\tAverage Score: 0.04\n",
      "Episode 2400\tAverage Score: 0.02\n",
      "Episode 2500\tAverage Score: 0.01\n",
      "Episode 2600\tAverage Score: 0.02\n",
      "Episode 2700\tAverage Score: 0.03\n",
      "Episode 2800\tAverage Score: 0.03\n",
      "Episode 2900\tAverage Score: 0.01\n",
      "Episode 3000\tAverage Score: 0.03\n",
      "Episode 3100\tAverage Score: 0.00\n",
      "Episode 3200\tAverage Score: 0.02\n",
      "Episode 3300\tAverage Score: 0.02\n",
      "Episode 3400\tAverage Score: 0.04\n",
      "Episode 3500\tAverage Score: 0.03\n",
      "Episode 3600\tAverage Score: 0.06\n",
      "Episode 3700\tAverage Score: 0.08\n",
      "Episode 3800\tAverage Score: 0.06\n",
      "Episode 3900\tAverage Score: 0.04\n",
      "Episode 4000\tAverage Score: 0.08\n",
      "Episode 4100\tAverage Score: 0.05\n",
      "Episode 4200\tAverage Score: 0.08\n",
      "Episode 4300\tAverage Score: 0.06\n",
      "Episode 4400\tAverage Score: 0.06\n",
      "Episode 4500\tAverage Score: 0.08\n",
      "Episode 4600\tAverage Score: 0.09\n",
      "Episode 4700\tAverage Score: 0.07\n",
      "Episode 4800\tAverage Score: 0.08\n",
      "Episode 4900\tAverage Score: 0.08\n",
      "Episode 5000\tAverage Score: 0.09\n",
      "Episode 5100\tAverage Score: 0.11\n",
      "Episode 5200\tAverage Score: 0.09\n",
      "Episode 5300\tAverage Score: 0.13\n",
      "Episode 5400\tAverage Score: 0.11\n",
      "Episode 5500\tAverage Score: 0.09\n",
      "Episode 5600\tAverage Score: 0.14\n",
      "Episode 5700\tAverage Score: 0.12\n",
      "Episode 5800\tAverage Score: 0.10\n",
      "Episode 5900\tAverage Score: 0.13\n",
      "Episode 6000\tAverage Score: 0.12\n",
      "Episode 6100\tAverage Score: 0.15\n",
      "Episode 6200\tAverage Score: 0.15\n",
      "Episode 6300\tAverage Score: 0.09\n",
      "Episode 6400\tAverage Score: 0.14\n",
      "Episode 6500\tAverage Score: 0.10\n",
      "Episode 6600\tAverage Score: 0.15\n",
      "Episode 6700\tAverage Score: 0.15\n",
      "Episode 6800\tAverage Score: 0.15\n",
      "Episode 6900\tAverage Score: 0.14\n",
      "Episode 7000\tAverage Score: 0.16\n",
      "Episode 7100\tAverage Score: 0.16\n",
      "Episode 7200\tAverage Score: 0.15\n",
      "Episode 7300\tAverage Score: 0.14\n",
      "Episode 7400\tAverage Score: 0.14\n",
      "Episode 7500\tAverage Score: 0.14\n",
      "Episode 7600\tAverage Score: 0.15\n",
      "Episode 7700\tAverage Score: 0.20\n",
      "Episode 7800\tAverage Score: 0.21\n",
      "Episode 7900\tAverage Score: 0.16\n",
      "Episode 8000\tAverage Score: 0.16\n",
      "Episode 8100\tAverage Score: 0.16\n",
      "Episode 8200\tAverage Score: 0.16\n",
      "Episode 8300\tAverage Score: 0.18\n",
      "Episode 8400\tAverage Score: 0.12\n",
      "Episode 8500\tAverage Score: 0.20\n",
      "Episode 8600\tAverage Score: 0.09\n",
      "Episode 8700\tAverage Score: 0.14\n",
      "Episode 8800\tAverage Score: 0.11\n",
      "Episode 8900\tAverage Score: 0.10\n",
      "Episode 9000\tAverage Score: 0.17\n",
      "Episode 9100\tAverage Score: 0.12\n",
      "Episode 9200\tAverage Score: 0.13\n",
      "Episode 9300\tAverage Score: 0.14\n",
      "Episode 9400\tAverage Score: 0.13\n",
      "Episode 9500\tAverage Score: 0.22\n",
      "Episode 9600\tAverage Score: 0.17\n",
      "Episode 9700\tAverage Score: 0.25\n",
      "Episode 9800\tAverage Score: 0.17\n",
      "Episode 9900\tAverage Score: 0.14\n",
      "Episode 9999\tAverage Score: 0.12"
     ]
    }
   ],
   "source": [
    "scores = trainer.train(10000)"
   ]
  },
  {
   "cell_type": "code",
   "execution_count": 8,
   "metadata": {},
   "outputs": [
    {
     "data": {
      "text/plain": [
       "<matplotlib.legend.Legend at 0x23e0b98c5f8>"
      ]
     },
     "execution_count": 8,
     "metadata": {},
     "output_type": "execute_result"
    },
    {
     "data": {
      "image/png": "[encoded data removed]",
      "text/plain": [
       "<Figure size 1080x576 with 1 Axes>"
      ]
     },
     "metadata": {
      "needs_background": "light"
     },
     "output_type": "display_data"
    }
   ],
   "source": [
    "import matplotlib.pyplot as plt\n",
    "%matplotlib inline\n",
    "import pandas as pd\n",
    "\n",
    "\n",
    "plt.figure(figsize=(15,8))\n",
    "pd.Series(scores, name='DDPG').plot()\n",
    "pd.Series(scores, name='Rolling mean DDPG (length: 100)').rolling(100).mean().plot()\n",
    "plt.title('Score: Tennis environment')\n",
    "plt.legend()"
   ]
  },
  {
   "cell_type": "code",
   "execution_count": 15,
   "metadata": {},
   "outputs": [
    {
     "data": {
      "text/plain": [
       "PiNetwork(\n",
       "  (model): Sequential(\n",
       "    (fc1): Linear(in_features=24, out_features=64, bias=True)\n",
       "    (relu1): ReLU()\n",
       "    (fc2): Linear(in_features=64, out_features=64, bias=True)\n",
       "    (relu2): ReLU()\n",
       "    (logits): Linear(in_features=64, out_features=2, bias=True)\n",
       "    (tanh): Tanh()\n",
       "  )\n",
       ")"
      ]
     },
     "execution_count": 15,
     "metadata": {},
     "output_type": "execute_result"
    }
   ],
   "source": [
    "import torch\n",
    "#actor1 = trainer.agent.actors_local[0]\n",
    "#actor2 = trainer.agent.actors_local[1]\n",
    "\n",
    "#path = './coop_policy_network_tennis'\n",
    "#torch.save(actor1.state_dict(), './actor1_policy_network_tennis')\n",
    "#torch.save(actor2.state_dict(), './actor21_policy_network_tennis')\n",
    "\n",
    "actor1 = PiNetwork(input_size=state_size, output_size=action_size, layer_size1=64, layer_size2=64, lr=LR_ACTOR)\n",
    "actor1.load_state_dict(torch.load('./actor1_policy_network_tennis'))\n",
    "actor1.eval()\n",
    "\n",
    "actor2 = PiNetwork(input_size=state_size, output_size=action_size, layer_size1=64, layer_size2=64, lr=LR_ACTOR)\n",
    "actor2.load_state_dict(torch.load( './actor1_policy_network_tennis'))\n",
    "actor2.eval()"
   ]
  },
  {
   "cell_type": "code",
   "execution_count": 16,
   "metadata": {},
   "outputs": [
    {
     "name": "stdout",
     "output_type": "stream",
     "text": [
      "Score (max over agents) from episode 1: 0.9000000134110451\n",
      "Score (max over agents) from episode 2: 0.4000000059604645\n",
      "Score (max over agents) from episode 3: 0.4000000059604645\n",
      "Score (max over agents) from episode 4: 0.6000000089406967\n",
      "Score (max over agents) from episode 5: 1.700000025331974\n",
      "Score (max over agents) from episode 6: 0.9000000134110451\n",
      "Score (max over agents) from episode 7: 0.4000000059604645\n",
      "Score (max over agents) from episode 8: 0.5000000074505806\n",
      "Score (max over agents) from episode 9: 0.800000011920929\n",
      "Score (max over agents) from episode 10: 1.0000000149011612\n",
      "Score (max over agents) from episode 11: 0.5000000074505806\n",
      "Score (max over agents) from episode 12: 0.4000000059604645\n",
      "Score (max over agents) from episode 13: 0.4000000059604645\n",
      "Score (max over agents) from episode 14: 0.20000000298023224\n",
      "Score (max over agents) from episode 15: 0.5000000074505806\n",
      "Score (max over agents) from episode 16: 1.5000000223517418\n",
      "Score (max over agents) from episode 17: 0.5000000074505806\n",
      "Score (max over agents) from episode 18: 0.490000007674098\n",
      "Score (max over agents) from episode 19: 0.6000000089406967\n",
      "Score (max over agents) from episode 20: 0.6000000089406967\n",
      "Score (max over agents) from episode 21: 0.7000000104308128\n",
      "Score (max over agents) from episode 22: 2.2000000327825546\n",
      "Score (max over agents) from episode 23: 1.600000023841858\n",
      "Score (max over agents) from episode 24: 1.600000023841858\n",
      "Score (max over agents) from episode 25: 1.5000000223517418\n",
      "Score (max over agents) from episode 26: 1.4900000225752592\n",
      "Score (max over agents) from episode 27: 1.0000000149011612\n",
      "Score (max over agents) from episode 28: 1.1000000163912773\n",
      "Score (max over agents) from episode 29: 0.30000000447034836\n",
      "Score (max over agents) from episode 30: 0.7900000121444464\n",
      "Score (max over agents) from episode 31: 0.800000011920929\n",
      "Score (max over agents) from episode 32: 0.10000000149011612\n",
      "Score (max over agents) from episode 33: 1.9000000283122063\n",
      "Score (max over agents) from episode 34: 0.7000000104308128\n",
      "Score (max over agents) from episode 35: 0.10000000149011612\n",
      "Score (max over agents) from episode 36: 0.5000000074505806\n",
      "Score (max over agents) from episode 37: 1.1900000181049109\n",
      "Score (max over agents) from episode 38: 0.4000000059604645\n",
      "Score (max over agents) from episode 39: 0.800000011920929\n",
      "Score (max over agents) from episode 40: 1.2000000178813934\n",
      "Score (max over agents) from episode 41: 0.4000000059604645\n",
      "Score (max over agents) from episode 42: 0.7000000104308128\n",
      "Score (max over agents) from episode 43: 0.5000000074505806\n",
      "Score (max over agents) from episode 44: 0.30000000447034836\n",
      "Score (max over agents) from episode 45: 0.4000000059604645\n",
      "Score (max over agents) from episode 46: 0.6000000089406967\n",
      "Score (max over agents) from episode 47: 0.800000011920929\n",
      "Score (max over agents) from episode 48: 0.6000000089406967\n",
      "Score (max over agents) from episode 49: 2.3900000378489494\n",
      "Score (max over agents) from episode 50: 1.5000000223517418\n",
      "Score (max over agents) from episode 51: 0.5900000091642141\n",
      "Score (max over agents) from episode 52: 1.0000000149011612\n",
      "Score (max over agents) from episode 53: 2.0000000298023224\n",
      "Score (max over agents) from episode 54: 2.0000000298023224\n",
      "Score (max over agents) from episode 55: 0.4000000059604645\n",
      "Score (max over agents) from episode 56: 0.6000000089406967\n",
      "Score (max over agents) from episode 57: 0.10000000149011612\n",
      "Score (max over agents) from episode 58: 0.9000000134110451\n",
      "Score (max over agents) from episode 59: 0.4000000059604645\n",
      "Score (max over agents) from episode 60: 0.4000000059604645\n",
      "Score (max over agents) from episode 61: 0.5000000074505806\n",
      "Score (max over agents) from episode 62: 0.6000000089406967\n",
      "Score (max over agents) from episode 63: 0.9000000134110451\n",
      "Score (max over agents) from episode 64: 0.9900000169873238\n",
      "Score (max over agents) from episode 65: 0.4000000059604645\n",
      "Score (max over agents) from episode 66: 0.9000000134110451\n",
      "Score (max over agents) from episode 67: 0.7000000104308128\n",
      "Score (max over agents) from episode 68: 0.4000000059604645\n",
      "Score (max over agents) from episode 69: 1.4000000208616257\n",
      "Score (max over agents) from episode 70: 2.600000038743019\n",
      "Score (max over agents) from episode 71: 1.1000000163912773\n",
      "Score (max over agents) from episode 72: 0.5000000074505806\n",
      "Score (max over agents) from episode 73: 0.4000000059604645\n",
      "Score (max over agents) from episode 74: 1.3000000193715096\n",
      "Score (max over agents) from episode 75: 0.5900000110268593\n",
      "Score (max over agents) from episode 76: 0.800000011920929\n",
      "Score (max over agents) from episode 77: 0.5000000074505806\n",
      "Score (max over agents) from episode 78: 0.7000000104308128\n",
      "Score (max over agents) from episode 79: 2.1000000312924385\n",
      "Score (max over agents) from episode 80: 0.4000000059604645\n",
      "Score (max over agents) from episode 81: 0.5000000074505806\n",
      "Score (max over agents) from episode 82: 1.2000000178813934\n",
      "Score (max over agents) from episode 83: 0.10000000149011612\n",
      "Score (max over agents) from episode 84: 0.6000000089406967\n",
      "Score (max over agents) from episode 85: 1.1000000163912773\n",
      "Score (max over agents) from episode 86: 2.500000037252903\n",
      "Score (max over agents) from episode 87: 0.6000000089406967\n",
      "Score (max over agents) from episode 88: 0.5000000074505806\n",
      "Score (max over agents) from episode 89: 0.7000000104308128\n",
      "Score (max over agents) from episode 90: 0.4000000059604645\n",
      "Score (max over agents) from episode 91: 0.9000000134110451\n",
      "Score (max over agents) from episode 92: 0.800000011920929\n",
      "Score (max over agents) from episode 93: 1.0000000149011612\n",
      "Score (max over agents) from episode 94: 0.30000000447034836\n",
      "Score (max over agents) from episode 95: 1.3000000193715096\n",
      "Score (max over agents) from episode 96: 0.800000011920929\n",
      "Score (max over agents) from episode 97: 0.7000000104308128\n",
      "Score (max over agents) from episode 98: 0.5000000074505806\n",
      "Score (max over agents) from episode 99: 0.6000000089406967\n",
      "Mean score over all episodes 0.8355555680928507\n"
     ]
    }
   ],
   "source": [
    "scores = []\n",
    "for i in range(1, 100):                                      # play game for 5 episodes\n",
    "    env_info = env.reset(train_mode=True)[brain_name]     # reset the environment    \n",
    "    states = env_info.vector_observations                  # get the current state (for each agent)\n",
    "    score = []                  # initialize the score (for each agent)\n",
    "    while True:\n",
    "        action1 = actor1(torch.from_numpy(states[0]).float()).cpu().data.numpy()\n",
    "        action2 = actor2(torch.from_numpy(states[1]).float()).cpu().data.numpy()\n",
    "        env_info = env.step(np.concatenate((action1, action2), axis=1))[brain_name]           # send all actions to tne environment\n",
    "        next_states = env_info.vector_observations         # get next state (for each agent)\n",
    "        rewards = env_info.rewards                         # get reward (for each agent)\n",
    "        dones = env_info.local_done                        # see if episode finished\n",
    "        score.append(env_info.rewards)\n",
    "        states = next_states                               # roll over states to next time step\n",
    "        if np.any(dones):                                  # exit loop if episode finished\n",
    "            break\n",
    "    max_score_in_episode = np.max((np.sum(np.array(score).reshape(-1, len(env_info.rewards)), axis=0)))\n",
    "    scores.append(max_score_in_episode)\n",
    "\n",
    "    print('Score (max over agents) from episode {}: {}'.format(i,max_score_in_episode))\n",
    "\n",
    "print('Mean score over all episodes {}'.format(np.mean(scores)))"
   ]
  },
  {
   "cell_type": "code",
   "execution_count": 17,
   "metadata": {},
   "outputs": [
    {
     "name": "stdout",
     "output_type": "stream",
     "text": [
      "Score (max over agents) from episode 1: 0.7000000104308128\n",
      "Score (max over agents) from episode 2: 0.5000000074505806\n",
      "Mean score over all episodes 0.6000000089406967\n"
     ]
    }
   ],
   "source": [
    "scores = []\n",
    "for i in range(1, 3):                                      # play game for 5 episodes\n",
    "    env_info = env.reset(train_mode=False)[brain_name]     # reset the environment    \n",
    "    states = env_info.vector_observations                  # get the current state (for each agent)\n",
    "    score = []                  # initialize the score (for each agent)\n",
    "    while True:\n",
    "        action1 = actor1(torch.from_numpy(states[0]).float()).cpu().data.numpy()\n",
    "        action2 = actor2(torch.from_numpy(states[1]).float()).cpu().data.numpy()\n",
    "        env_info = env.step(np.concatenate((action1, action2),axis=1))[brain_name]           # send all actions to tne environment\n",
    "        next_states = env_info.vector_observations         # get next state (for each agent)\n",
    "        rewards = env_info.rewards                         # get reward (for each agent)\n",
    "        dones = env_info.local_done                        # see if episode finished\n",
    "        score.append(env_info.rewards)\n",
    "        states = next_states                               # roll over states to next time step\n",
    "        if np.any(dones):                                  # exit loop if episode finished\n",
    "            break\n",
    "    max_score_in_episode = np.max((np.sum(np.array(score).reshape(-1, len(env_info.rewards)), axis=0)))\n",
    "    scores.append(max_score_in_episode)\n",
    "\n",
    "    print('Score (max over agents) from episode {}: {}'.format(i,max_score_in_episode))\n",
    "\n",
    "print('Mean score over all episodes {}'.format(np.mean(scores)))"
   ]
  },
  {
   "cell_type": "code",
   "execution_count": null,
   "metadata": {},
   "outputs": [],
   "source": []
  }
 ],
 "metadata": {
  "kernelspec": {
   "display_name": "Python 3",
   "language": "python",
   "name": "python3"
  },
  "language_info": {
   "codemirror_mode": {
    "name": "ipython",
    "version": 3
   },
   "file_extension": ".py",
   "mimetype": "text/x-python",
   "name": "python",
   "nbconvert_exporter": "python",
   "pygments_lexer": "ipython3",
   "version": "3.6.10"
  }
 },
 "nbformat": 4,
 "nbformat_minor": 2
}
